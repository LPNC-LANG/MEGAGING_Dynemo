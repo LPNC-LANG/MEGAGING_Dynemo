{
 "cells": [
  {
   "cell_type": "code",
   "execution_count": 1,
   "metadata": {},
   "outputs": [],
   "source": [
    "import numpy as np \n",
    "import os\n",
    "\n",
    "n_modes=4\n",
    "run=2\n",
    "\n",
    "# BASE_DIR = \"//sum-lpnc-nas.u-ga.fr/SecureVault/LPNC-SecureVault/MEGAGING/Processed/osl_processing\"\n",
    "BASE_DIR = \"/run/user/1001/gvfs/smb-share:server=sum-lpnc-nas.u-ga.fr,share=securevault/LPNC-SecureVault/MEGAGING/Processed/osl_processing\"\n",
    "\n",
    "MODEL_DIR = f\"{BASE_DIR}/train_dynemo_1_90/{n_modes:02d}_modes/run{run:02d}/model\"\n",
    "OUTPUT_DIR = f\"{BASE_DIR}/train_dynemo_1_90/{n_modes:02d}_modes/run{run:02d}/inf_params\"\n",
    "os.makedirs(f\"{OUTPUT_DIR}\", exist_ok=True)\n",
    "\n",
    "# Demographics & Covariates\n",
    "age_group_dict = {\n",
    "    'bm_014': 1, # young\n",
    "    'ca_001': 1,\n",
    "    'ca_019': 2, # old\n",
    "    'cc_007': 2,\n",
    "    'cm_013': 2,\n",
    "    'dm_022': 1,\n",
    "    'el_018': 1,\n",
    "    'gb_020': 2,\n",
    "    'gh_017': 1,\n",
    "    'gp_011': 2,\n",
    "    'gv_005': 2,\n",
    "    'lf_012': 2,\n",
    "    'lr_008': 1,\n",
    "    'pe_009': 1,\n",
    "    'pl_016': 1,\n",
    "    'pr_015': 2,\n",
    "    'ra_003': 1,\n",
    "    're_002': 1,\n",
    "    'sg_010': 1\n",
    "}\n",
    "age = np.array(list(age_group_dict.values()))"
   ]
  },
  {
   "cell_type": "code",
   "execution_count": 4,
   "metadata": {},
   "outputs": [
    {
     "name": "stdout",
     "output_type": "stream",
     "text": [
      "(19, 4, 52)\n",
      "(19, 4, 1326)\n"
     ]
    }
   ],
   "source": [
    "f = np.load(f\"{OUTPUT_DIR}/f.npy\")\n",
    "psd = np.load(f\"{OUTPUT_DIR}/psd.npy\")\n",
    "coh = np.load(f\"{OUTPUT_DIR}/coh.npy\")\n",
    "w = np.load(f\"{OUTPUT_DIR}/w.npy\")\n",
    "\n",
    "from osl_dynamics.analysis import power, connectivity\n",
    "psd_coefs = psd[:, 0]\n",
    "pow = power.variance_from_spectra(f,psd_coefs)\n",
    "print(pow.shape)\n",
    "\n",
    "coh = connectivity.mean_coherence_from_spectra(f,coh)\n",
    "m, n = np.triu_indices(coh.shape[-1],k=1)\n",
    "coh = coh[...,m,n]\n",
    "print(coh.shape)"
   ]
  },
  {
   "cell_type": "code",
   "execution_count": 8,
   "metadata": {},
   "outputs": [
    {
     "name": "stdout",
     "output_type": "stream",
     "text": [
      "(19, 5512)\n",
      "(19,)\n"
     ]
    }
   ],
   "source": [
    "from sklearn.pipeline import Pipeline\n",
    "from sklearn.preprocessing import StandardScaler\n",
    "from sklearn.decomposition import PCA\n",
    "from sklearn.model_selection import KFold, GridSearchCV\n",
    "from sklearn.linear_model import ElasticNet\n",
    "\n",
    "ElasticNet(max_iter=10000)\n",
    "\n",
    "X = np.concatenate([pow,coh],axis=-1)\n",
    "X = X.reshape(X.shape[0],-1)\n",
    "print(X.shape)\n",
    "\n",
    "Y = age\n",
    "print(Y.shape)"
   ]
  },
  {
   "cell_type": "code",
   "execution_count": 16,
   "metadata": {},
   "outputs": [
    {
     "name": "stdout",
     "output_type": "stream",
     "text": [
      "Fold 0: best_params={'pca__n_components': 4, 'reg__alpha': 0.001, 'reg__l1_ratio': 0.1} R2=-0.1811676899071888\n",
      "Fold 1: best_params={'pca__n_components': 6, 'reg__alpha': 0.1, 'reg__l1_ratio': 0.1} R2=-0.1395760841315905\n",
      "Fold 2: best_params={'pca__n_components': 2, 'reg__alpha': 1.0, 'reg__l1_ratio': 0.5} R2=-0.0400000190734886\n",
      "Fold 3: best_params={'pca__n_components': 2, 'reg__alpha': 1.0, 'reg__l1_ratio': 0.5} R2=-0.9259257493195794\n",
      "Fold 4: best_params={'pca__n_components': 2, 'reg__alpha': 1.0, 'reg__l1_ratio': 0.5} R2=-0.048828125\n",
      "\n",
      "Mean R2: -0.26709953348636944\n"
     ]
    }
   ],
   "source": [
    "kf = KFold(n_splits=5,shuffle=True,random_state=0)\n",
    "pipeline = Pipeline(\n",
    "    [\n",
    "        (\"scaler\", StandardScaler()),\n",
    "        (\"pca\", PCA(whiten=True)),\n",
    "        (\"reg\", ElasticNet())\n",
    "    ]\n",
    ")\n",
    "param_grid = {\n",
    "    \"pca__n_components\": range(2,10,2),\n",
    "    \"reg__alpha\": np.logspace(-3,3,7),\n",
    "    \"reg__l1_ratio\": [0.1,0.5,0.9]\n",
    "}\n",
    "\n",
    "scores=[]\n",
    "for fold, (train_indices, test_indices) in enumerate(kf.split(Y)):\n",
    "    X_train, X_test, Y_train, Y_test = X[train_indices], X[test_indices], Y[train_indices], Y[test_indices]\n",
    "    reg = GridSearchCV(pipeline, param_grid,n_jobs=16)\n",
    "    reg.fit(X_train, Y_train)\n",
    "\n",
    "    score = reg.score(X_test, Y_test)\n",
    "    scores.append(score)\n",
    "\n",
    "    print(f\"Fold {fold}: best_params={reg.best_params_} R2={score}\")\n",
    "\n",
    "print()\n",
    "print(f\"Mean R2: {np.mean(scores)}\")"
   ]
  }
 ],
 "metadata": {
  "kernelspec": {
   "display_name": "osl",
   "language": "python",
   "name": "python3"
  },
  "language_info": {
   "codemirror_mode": {
    "name": "ipython",
    "version": 3
   },
   "file_extension": ".py",
   "mimetype": "text/x-python",
   "name": "python",
   "nbconvert_exporter": "python",
   "pygments_lexer": "ipython3",
   "version": "3.8.16"
  }
 },
 "nbformat": 4,
 "nbformat_minor": 2
}
