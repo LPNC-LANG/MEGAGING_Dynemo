{
 "cells": [
  {
   "cell_type": "code",
   "execution_count": null,
   "metadata": {},
   "outputs": [],
   "source": [
    "from osl_dynamics.data import Data\n",
    "from glob import glob\n",
    "\n",
    "# BASE_DIR = \"/run/user/1001/gvfs/smb-share:server=sum-lpnc-nas.u-ga.fr,share=securevault/LPNC-SecureVault/MEGAGING/Processed/osl_processing\"\n",
    "concatenated_fif = sorted(glob(f\"/home/clement/Bureau/derivatives_1_45/*/sflip_parc-raw.fif\"))\n",
    "data = Data(concatenated_fif, picks=\"misc\", n_jobs=16, reject_by_annotation='omit')\n",
    "methods = {\n",
    "    \"tde_pca\": {\"n_embeddings\": 15, \"n_pca_components\": 104},\n",
    "    \"standardize\": {},\n",
    "}\n",
    "data.prepare(methods)\n",
    "data.save(f\"/home/clement/Bureau/hmm_dataprep_1_45\")"
   ]
  },
  {
   "cell_type": "code",
   "execution_count": null,
   "metadata": {},
   "outputs": [],
   "source": [
    "from osl_dynamics.data import Data\n",
    "from glob import glob\n",
    "\n",
    "BASE_DIR = \"/run/user/1001/gvfs/smb-share:server=sum-lpnc-nas.u-ga.fr,share=securevault/LPNC-SecureVault/MEGAGING/Processed/osl_processing\"\n",
    "concatenated_fif = sorted(glob(f\"{BASE_DIR}/derivatives_1_90/*/sflip_parc-raw.fif\"))\n",
    "data = Data(concatenated_fif, picks=\"misc\", n_jobs=16, reject_by_annotation='omit',use_tfrecord=True,buffer_size=10000)\n",
    "methods = {\n",
    "    \"tde\": {\"n_embeddings\": 15},\n",
    "    \"standardize\": {},\n",
    "}\n",
    "data.prepare(methods)\n",
    "data.save(f\"{BASE_DIR}/hmm_dataprep_1_90_only_tde\")"
   ]
  }
 ],
 "metadata": {
  "kernelspec": {
   "display_name": "osl",
   "language": "python",
   "name": "python3"
  },
  "language_info": {
   "codemirror_mode": {
    "name": "ipython",
    "version": 3
   },
   "file_extension": ".py",
   "mimetype": "text/x-python",
   "name": "python",
   "nbconvert_exporter": "python",
   "pygments_lexer": "ipython3",
   "version": "3.10.13"
  }
 },
 "nbformat": 4,
 "nbformat_minor": 2
}
