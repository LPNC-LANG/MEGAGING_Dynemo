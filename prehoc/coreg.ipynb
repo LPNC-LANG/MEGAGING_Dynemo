{
 "cells": [
  {
   "cell_type": "code",
   "execution_count": 1,
   "metadata": {},
   "outputs": [],
   "source": [
    "import os\n",
    "from osl import source_recon, utils\n",
    "from dask.distributed import Client\n",
    "\n",
    "subject_names = [\"bm_014\", \n",
    "                 \"ca_001\", \n",
    "                 \"ca_019\",\n",
    "                 \"cc_007\",\n",
    "                 \"cm_013\",\n",
    "                 \"co_006\",\n",
    "                 \"dm_022\",\n",
    "                 \"ds_021\",\n",
    "                 \"el_018\",\n",
    "                 \"gb_020\",\n",
    "                 \"gh_017\",\n",
    "                 \"gp_011\",\n",
    "                 \"gv_005\",\n",
    "                 \"lf_012\",\n",
    "                 \"lr_008\",\n",
    "                 \"mp_004\",\n",
    "                 \"pe_009\",\n",
    "                 \"pl_016\",\n",
    "                 \"pr_015\",\n",
    "                 \"ra_003\",\n",
    "                 \"re_002\",\n",
    "                 \"sg_010\"] \n",
    "\n",
    "# Sort by increasing number id\n",
    "sorted_subject_names = sorted(subject_names, key=lambda x: int(''.join(filter(str.isdigit, x))))\n",
    "\n",
    "BASE_DIR = \"/run/user/1001/gvfs/smb-share:server=sum-lpnc-nas.u-ga.fr,share=securevault/LPNC-SecureVault/MEGAGING\"\n",
    "# OUTPUT_DIR = f\"{BASE_DIR}/Processed/osl_processing/derivatives/coreg\"\n",
    "OUTPUT_DIR = \"/home/clement/Bureau/derivatives\"\n",
    "\n",
    "PREPROC_DIR = f\"{BASE_DIR}/Processed/osl_processing/Mot_Generation/concatenated_data\"\n",
    "ANAT_DIR = \"/media/clement/Transcend_Clement2/Research_Projects/MEGAGING/static_analysis/data/MRI\"\n",
    "FSL_DIR = \"/home/clement/Bureau/fsl\""
   ]
  },
  {
   "cell_type": "code",
   "execution_count": null,
   "metadata": {},
   "outputs": [],
   "source": [
    "import numpy as np\n",
    "\n",
    "def fix_headshape_points(outdir, subject, preproc_file, smri_file, epoch_file):\n",
    "    # Load saved headshape and nasion files\n",
    "    filenames = source_recon.rhino.get_coreg_filenames(outdir, subject)\n",
    "    hs = np.loadtxt(filenames[\"polhemus_headshape_file\"])\n",
    "    nas = np.loadtxt(filenames[\"polhemus_nasion_file\"])\n",
    "    lpa = np.loadtxt(filenames[\"polhemus_lpa_file\"])\n",
    "    rpa = np.loadtxt(filenames[\"polhemus_rpa_file\"])\n",
    "\n",
    "    # Remove headshape points on the nose\n",
    "    remove = np.logical_and(hs[1] > max(lpa[1], rpa[1]), hs[2] < nas[2])\n",
    "    hs = hs[:, ~remove]\n",
    "\n",
    "    # Overwrite headshape file\n",
    "    utils.logger.log_or_print(f\"overwritting {filenames['polhemus_headshape_file']}\")\n",
    "    np.savetxt(filenames[\"polhemus_headshape_file\"], hs)"
   ]
  },
  {
   "cell_type": "code",
   "execution_count": null,
   "metadata": {},
   "outputs": [],
   "source": [
    "if __name__ == \"__main__\":\n",
    "    utils.logger.set_up(level=\"INFO\")\n",
    "    source_recon.setup_fsl(FSL_DIR)\n",
    "\n",
    "    config = \"\"\"\n",
    "        source_recon:\n",
    "        - extract_fiducials_from_fif: {}\n",
    "        - fix_headshape_points: {}\n",
    "        - compute_surfaces:\n",
    "            include_nose: False\n",
    "        - coregister:\n",
    "            use_nose: False\n",
    "            use_headshape: True\n",
    "            n_init: 50\n",
    "    \"\"\"\n",
    "\n",
    "    # Setup parallel workers\n",
    "    client = Client(n_workers=20, threads_per_worker=1)\n",
    "\n",
    "    # Get input files\n",
    "    subjects = []\n",
    "    preproc_files = []\n",
    "    smri_files = []\n",
    "\n",
    "    for subject in sorted_subject_names:\n",
    "        subjects.append(f\"{subject}\")\n",
    "\n",
    "        smri_file_path = os.path.join(ANAT_DIR, f\"aging_{subject}.nii\")\n",
    "        smri_files.append(smri_file_path)\n",
    "\n",
    "        preproc_file = f\"{subject}_concatenated_raw.fif\"\n",
    "        preproc_file_path = os.path.join(PREPROC_DIR, preproc_file)\n",
    "        preproc_files.append(preproc_file_path)\n",
    "            \n",
    "            \n",
    "    # Run batch source reconstruction\n",
    "    source_recon.run_src_batch(\n",
    "        config,\n",
    "        src_dir=OUTPUT_DIR,\n",
    "        subjects=subjects,\n",
    "        preproc_files=preproc_files,\n",
    "        smri_files=smri_files,\n",
    "        extra_funcs=[fix_headshape_points],\n",
    "        dask_client=True,\n",
    "    )"
   ]
  },
  {
   "cell_type": "code",
   "execution_count": null,
   "metadata": {},
   "outputs": [],
   "source": [
    "# For unconcatenated files\n",
    "\n",
    "# for subject in sorted_subject_names:\n",
    "#     smri_file_path = os.path.join(ANAT_DIR, f\"aging_{subject}.nii\")\n",
    "    \n",
    "#     PREPROC_PATH = f\"{BASE_DIR}/Processed/osl_processing/Mot_Generation/{subject}/\"\n",
    "    \n",
    "#     for trial_num in range(1, ntrials + 1):  # 20 trials per run\n",
    "#         file_name = f\"trial{trial_num:03d}_raw.fif\"\n",
    "#         preproc_file_path = os.path.join(PREPROC_PATH, file_name)\n",
    "\n",
    "#         if os.path.exists(preproc_file_path):  # Check if the file exists\n",
    "#             label, _ = os.path.splitext(file_name)\n",
    "#             subjects.append(f\"{label}_{subject}\")\n",
    "#             preproc_files.append(preproc_file_path)\n",
    "#             smri_files.append(smri_file_path)\n",
    "\n",
    "#         for additional_trial_num in range(2, nruns + 1):  # 4 runs\n",
    "#             file_name = f\"trial{trial_num:03d}_{additional_trial_num:02d}_raw.fif\"\n",
    "#             preproc_file_path = os.path.join(PREPROC_PATH, file_name)\n",
    "\n",
    "#             if os.path.exists(preproc_file_path):  # Check if the file exists\n",
    "#                 label, _ = os.path.splitext(file_name)\n",
    "#                 subjects.append(f\"{label}_{subject}\")\n",
    "#                 preproc_files.append(preproc_file_path)\n",
    "#                 smri_files.append(smri_file_path)"
   ]
  },
  {
   "cell_type": "markdown",
   "metadata": {},
   "source": [
    "SOURCE RECON"
   ]
  },
  {
   "cell_type": "code",
   "execution_count": 2,
   "metadata": {},
   "outputs": [],
   "source": [
    "# These subjects have bad segmentation\n",
    "# subject_names = [\"co_006\",\n",
    "#                  \"ds_021\",\n",
    "#                  \"mp_004\",]\n",
    "\n",
    "\n",
    "subject_names = [\"bm_014\", \n",
    "                 \"ca_001\", \n",
    "                 \"ca_019\",\n",
    "                 \"cc_007\",\n",
    "                 \"cm_013\",\n",
    "                 \"dm_022\",\n",
    "                 \"el_018\",\n",
    "                 \"gb_020\",\n",
    "                 \"gh_017\",\n",
    "                 \"gp_011\",\n",
    "                 \"gv_005\",\n",
    "                 \"lf_012\",\n",
    "                 \"lr_008\",\n",
    "                 \"pe_009\",\n",
    "                 \"pl_016\",\n",
    "                 \"pr_015\",\n",
    "                 \"ra_003\",\n",
    "                 \"re_002\",\n",
    "                 \"sg_010\"] \n",
    "\n",
    "# Sort by increasing number id\n",
    "sorted_subject_names = sorted(subject_names, key=lambda x: int(''.join(filter(str.isdigit, x))))\n",
    "\n",
    "BASE_DIR = \"/run/user/1001/gvfs/smb-share:server=sum-lpnc-nas.u-ga.fr,share=securevault/LPNC-SecureVault/MEGAGING\"\n",
    "SRC_DIR = \"/home/clement/Bureau/derivatives\""
   ]
  },
  {
   "cell_type": "code",
   "execution_count": 3,
   "metadata": {},
   "outputs": [
    {
     "name": "stdout",
     "output_type": "stream",
     "text": [
      " OSL osl_logger: handler 'console' level set to 'INFO'\n",
      " OSL Logger Started\n"
     ]
    },
    {
     "name": "stderr",
     "output_type": "stream",
     "text": [
      "/home/clement/Bureau/fsl/envs/osl/lib/python3.8/site-packages/distributed/dashboard/core.py:20: UserWarning: \n",
      "Dask needs bokeh >= 2.4.2, < 3 for the dashboard.\n",
      "You have bokeh==3.1.1.\n",
      "Continuing without the dashboard.\n",
      "  warnings.warn(\n",
      "INFO:distributed.http.proxy:To route to workers diagnostics web server please install jupyter-server-proxy: python -m pip install jupyter-server-proxy\n",
      "/home/clement/Bureau/fsl/envs/osl/lib/python3.8/site-packages/distributed/node.py:182: UserWarning: Port 8787 is already in use.\n",
      "Perhaps you already have a cluster running?\n",
      "Hosting the HTTP server on port 42903 instead\n",
      "  warnings.warn(\n"
     ]
    },
    {
     "name": "stdout",
     "output_type": "stream",
     "text": [
      " OSL osl_logger: handler 'console' level set to 'INFO'\n",
      " logging to file: /home/clement/Bureau/derivatives/logs/osl_batch.log\n",
      " Starting OSL Batch Source Reconstruction\n",
      " Running config\n",
      " {'source_recon': [{'forward_model': {'model': 'Single Layer'}},\n",
      "                  {'beamform_and_parcellate': {'chantypes': ['mag', 'grad'],\n",
      "                                               'freq_range': [1, 45],\n",
      "                                               'method': 'spatial_basis',\n",
      "                                               'orthogonalisation': 'symmetric',\n",
      "                                               'parcellation_file': 'Glasser52_binary_space-MNI152NLin6_res-8x8x8.nii.gz',\n",
      "                                               'rank': {'meg': 60}}}]}\n",
      "ca_001_concatenated_raw : OSL osl_logger: handler 'console' level set to 'INFO'\n",
      "ca_001_concatenated_raw : logging to file: /home/clement/Bureau/derivatives/logs/ca_001_concatenated_raw_src.log\n",
      "ca_001_concatenated_raw : 2024-09-26 16:31:36 : Starting OSL Processing\n",
      "ca_001_concatenated_raw : input : /home/clement/Bureau/derivatives/ca_001\n",
      "ca_001_concatenated_raw : *** RUNNING OSL RHINO FORWARD MODEL ***\n",
      "ca_001_concatenated_raw : Using bet_inskull_surf_file for single shell surface\n"
     ]
    },
    {
     "name": "stderr",
     "output_type": "stream",
     "text": [
      "/home/clement/Bureau/fsl/envs/osl/lib/python3.8/site-packages/osl/source_recon/batch.py:147: RuntimeWarning: Log entries will be appended to the file. Use overwrite=False to avoid this message in the future.\n",
      "  mne.utils._logging.set_log_file(logfile)\n"
     ]
    },
    {
     "name": "stdout",
     "output_type": "stream",
     "text": [
      "ca_001_concatenated_raw : *** OSL RHINO FORWARD MODEL COMPLETE ***\n",
      "ca_001_concatenated_raw : beamform_and_parcellate\n",
      "ca_001_concatenated_raw : bandpass filtering: 1-45 Hz\n",
      "ca_001_concatenated_raw : beamforming.make_lcmv\n",
      "ca_001_concatenated_raw : chantypes: ['mag', 'grad']\n",
      "ca_001_concatenated_raw : rank: {'meg': 60}\n",
      "ca_001_concatenated_raw : *** RUNNING OSL MAKE LCMV ***\n",
      "ca_001_concatenated_raw : variance for chantype mag is 2.4136594046292497e-26\n",
      "ca_001_concatenated_raw : variance for chantype grad is 1.0780300982318391e-23\n",
      "ca_001_concatenated_raw : saving /home/clement/Bureau/derivatives/ca_001/beamform/filters-lcmv.h5\n",
      "ca_001_concatenated_raw : *** OSL MAKE LCMV COMPLETE ***\n",
      "ca_001_concatenated_raw : beamforming.apply_lcmv\n",
      "ca_001_concatenated_raw : spatial_resolution = 8 mm\n",
      "ca_001_concatenated_raw : parcellation\n",
      "ca_001_concatenated_raw : using file Glasser52_binary_space-MNI152NLin6_res-8x8x8.nii.gz\n",
      "ca_001_concatenated_raw : gridstep = 8 mm\n"
     ]
    },
    {
     "name": "stderr",
     "output_type": "stream",
     "text": [
      "Warning: An input intended to be a single 3D volume has multiple timepoints. Input will be truncated to first volume, but this functionality is deprecated and will be removed in a future release.\n"
     ]
    },
    {
     "name": "stdout",
     "output_type": "stream",
     "text": [
      "ca_001_concatenated_raw : symmetric orthogonalisation\n",
      "ca_001_concatenated_raw : saving /home/clement/Bureau/derivatives/ca_001/parc/parc-raw.fif\n",
      "ca_001_concatenated_raw : saving /home/clement/Bureau/derivatives/ca_001/parc/psd.png\n",
      "ca_001_concatenated_raw : saving /home/clement/Bureau/derivatives/ca_001/parc/corr.png\n",
      "re_002_concatenated_raw : OSL osl_logger: handler 'console' level set to 'INFO'\n",
      "re_002_concatenated_raw : logging to file: /home/clement/Bureau/derivatives/logs/re_002_concatenated_raw_src.log\n",
      "re_002_concatenated_raw : 2024-09-26 16:33:06 : Starting OSL Processing\n",
      "re_002_concatenated_raw : input : /home/clement/Bureau/derivatives/re_002\n",
      "re_002_concatenated_raw : *** RUNNING OSL RHINO FORWARD MODEL ***\n",
      "re_002_concatenated_raw : Using bet_inskull_surf_file for single shell surface\n"
     ]
    },
    {
     "name": "stderr",
     "output_type": "stream",
     "text": [
      "/home/clement/Bureau/fsl/envs/osl/lib/python3.8/site-packages/osl/source_recon/batch.py:147: RuntimeWarning: Log entries will be appended to the file. Use overwrite=False to avoid this message in the future.\n",
      "  mne.utils._logging.set_log_file(logfile)\n"
     ]
    },
    {
     "name": "stdout",
     "output_type": "stream",
     "text": [
      "re_002_concatenated_raw : *** OSL RHINO FORWARD MODEL COMPLETE ***\n",
      "re_002_concatenated_raw : beamform_and_parcellate\n",
      "re_002_concatenated_raw : bandpass filtering: 1-45 Hz\n",
      "re_002_concatenated_raw : beamforming.make_lcmv\n",
      "re_002_concatenated_raw : chantypes: ['mag', 'grad']\n",
      "re_002_concatenated_raw : rank: {'meg': 60}\n",
      "re_002_concatenated_raw : *** RUNNING OSL MAKE LCMV ***\n",
      "re_002_concatenated_raw : variance for chantype mag is 4.0006819581326267e-26\n",
      "re_002_concatenated_raw : variance for chantype grad is 1.9622771106648102e-23\n",
      "re_002_concatenated_raw : saving /home/clement/Bureau/derivatives/re_002/beamform/filters-lcmv.h5\n",
      "re_002_concatenated_raw : *** OSL MAKE LCMV COMPLETE ***\n",
      "re_002_concatenated_raw : beamforming.apply_lcmv\n",
      "re_002_concatenated_raw : spatial_resolution = 8 mm\n",
      "re_002_concatenated_raw : parcellation\n",
      "re_002_concatenated_raw : using file Glasser52_binary_space-MNI152NLin6_res-8x8x8.nii.gz\n",
      "re_002_concatenated_raw : gridstep = 8 mm\n"
     ]
    },
    {
     "name": "stderr",
     "output_type": "stream",
     "text": [
      "Warning: An input intended to be a single 3D volume has multiple timepoints. Input will be truncated to first volume, but this functionality is deprecated and will be removed in a future release.\n"
     ]
    },
    {
     "name": "stdout",
     "output_type": "stream",
     "text": [
      "re_002_concatenated_raw : symmetric orthogonalisation\n",
      "re_002_concatenated_raw : saving /home/clement/Bureau/derivatives/re_002/parc/parc-raw.fif\n",
      "re_002_concatenated_raw : saving /home/clement/Bureau/derivatives/re_002/parc/psd.png\n",
      "re_002_concatenated_raw : saving /home/clement/Bureau/derivatives/re_002/parc/corr.png\n",
      "ra_003_concatenated_raw : OSL osl_logger: handler 'console' level set to 'INFO'\n",
      "ra_003_concatenated_raw : logging to file: /home/clement/Bureau/derivatives/logs/ra_003_concatenated_raw_src.log\n",
      "ra_003_concatenated_raw : 2024-09-26 16:34:24 : Starting OSL Processing\n",
      "ra_003_concatenated_raw : input : /home/clement/Bureau/derivatives/ra_003\n",
      "ra_003_concatenated_raw : *** RUNNING OSL RHINO FORWARD MODEL ***\n",
      "ra_003_concatenated_raw : Using bet_inskull_surf_file for single shell surface\n"
     ]
    },
    {
     "name": "stderr",
     "output_type": "stream",
     "text": [
      "/home/clement/Bureau/fsl/envs/osl/lib/python3.8/site-packages/osl/source_recon/batch.py:147: RuntimeWarning: Log entries will be appended to the file. Use overwrite=False to avoid this message in the future.\n",
      "  mne.utils._logging.set_log_file(logfile)\n"
     ]
    },
    {
     "name": "stdout",
     "output_type": "stream",
     "text": [
      "ra_003_concatenated_raw : *** OSL RHINO FORWARD MODEL COMPLETE ***\n",
      "ra_003_concatenated_raw : beamform_and_parcellate\n",
      "ra_003_concatenated_raw : bandpass filtering: 1-45 Hz\n",
      "ra_003_concatenated_raw : beamforming.make_lcmv\n",
      "ra_003_concatenated_raw : chantypes: ['mag', 'grad']\n",
      "ra_003_concatenated_raw : rank: {'meg': 60}\n",
      "ra_003_concatenated_raw : *** RUNNING OSL MAKE LCMV ***\n",
      "ra_003_concatenated_raw : variance for chantype mag is 8.304159311265379e-26\n",
      "ra_003_concatenated_raw : variance for chantype grad is 4.130030910688555e-23\n",
      "ra_003_concatenated_raw : saving /home/clement/Bureau/derivatives/ra_003/beamform/filters-lcmv.h5\n",
      "ra_003_concatenated_raw : *** OSL MAKE LCMV COMPLETE ***\n",
      "ra_003_concatenated_raw : beamforming.apply_lcmv\n",
      "ra_003_concatenated_raw : spatial_resolution = 8 mm\n",
      "ra_003_concatenated_raw : parcellation\n",
      "ra_003_concatenated_raw : using file Glasser52_binary_space-MNI152NLin6_res-8x8x8.nii.gz\n",
      "ra_003_concatenated_raw : gridstep = 8 mm\n"
     ]
    },
    {
     "name": "stderr",
     "output_type": "stream",
     "text": [
      "Warning: An input intended to be a single 3D volume has multiple timepoints. Input will be truncated to first volume, but this functionality is deprecated and will be removed in a future release.\n"
     ]
    },
    {
     "name": "stdout",
     "output_type": "stream",
     "text": [
      "ra_003_concatenated_raw : symmetric orthogonalisation\n",
      "ra_003_concatenated_raw : saving /home/clement/Bureau/derivatives/ra_003/parc/parc-raw.fif\n",
      "ra_003_concatenated_raw : saving /home/clement/Bureau/derivatives/ra_003/parc/psd.png\n",
      "ra_003_concatenated_raw : saving /home/clement/Bureau/derivatives/ra_003/parc/corr.png\n",
      "gv_005_concatenated_raw : OSL osl_logger: handler 'console' level set to 'INFO'\n",
      "gv_005_concatenated_raw : logging to file: /home/clement/Bureau/derivatives/logs/gv_005_concatenated_raw_src.log\n",
      "gv_005_concatenated_raw : 2024-09-26 16:35:56 : Starting OSL Processing\n",
      "gv_005_concatenated_raw : input : /home/clement/Bureau/derivatives/gv_005\n",
      "gv_005_concatenated_raw : *** RUNNING OSL RHINO FORWARD MODEL ***\n",
      "gv_005_concatenated_raw : Using bet_inskull_surf_file for single shell surface\n"
     ]
    },
    {
     "name": "stderr",
     "output_type": "stream",
     "text": [
      "/home/clement/Bureau/fsl/envs/osl/lib/python3.8/site-packages/osl/source_recon/batch.py:147: RuntimeWarning: Log entries will be appended to the file. Use overwrite=False to avoid this message in the future.\n",
      "  mne.utils._logging.set_log_file(logfile)\n"
     ]
    },
    {
     "name": "stdout",
     "output_type": "stream",
     "text": [
      "gv_005_concatenated_raw : *** OSL RHINO FORWARD MODEL COMPLETE ***\n",
      "gv_005_concatenated_raw : beamform_and_parcellate\n",
      "gv_005_concatenated_raw : bandpass filtering: 1-45 Hz\n",
      "gv_005_concatenated_raw : beamforming.make_lcmv\n",
      "gv_005_concatenated_raw : chantypes: ['mag', 'grad']\n",
      "gv_005_concatenated_raw : rank: {'meg': 60}\n",
      "gv_005_concatenated_raw : *** RUNNING OSL MAKE LCMV ***\n",
      "gv_005_concatenated_raw : variance for chantype mag is 3.461913799121629e-26\n",
      "gv_005_concatenated_raw : variance for chantype grad is 1.7335720858051598e-23\n",
      "gv_005_concatenated_raw : saving /home/clement/Bureau/derivatives/gv_005/beamform/filters-lcmv.h5\n",
      "gv_005_concatenated_raw : *** OSL MAKE LCMV COMPLETE ***\n",
      "gv_005_concatenated_raw : beamforming.apply_lcmv\n",
      "gv_005_concatenated_raw : spatial_resolution = 8 mm\n",
      "gv_005_concatenated_raw : parcellation\n",
      "gv_005_concatenated_raw : using file Glasser52_binary_space-MNI152NLin6_res-8x8x8.nii.gz\n",
      "gv_005_concatenated_raw : gridstep = 8 mm\n"
     ]
    },
    {
     "name": "stderr",
     "output_type": "stream",
     "text": [
      "Warning: An input intended to be a single 3D volume has multiple timepoints. Input will be truncated to first volume, but this functionality is deprecated and will be removed in a future release.\n"
     ]
    },
    {
     "name": "stdout",
     "output_type": "stream",
     "text": [
      "gv_005_concatenated_raw : symmetric orthogonalisation\n",
      "gv_005_concatenated_raw : saving /home/clement/Bureau/derivatives/gv_005/parc/parc-raw.fif\n",
      "gv_005_concatenated_raw : saving /home/clement/Bureau/derivatives/gv_005/parc/psd.png\n",
      "gv_005_concatenated_raw : saving /home/clement/Bureau/derivatives/gv_005/parc/corr.png\n",
      "cc_007_concatenated_raw : OSL osl_logger: handler 'console' level set to 'INFO'\n",
      "cc_007_concatenated_raw : logging to file: /home/clement/Bureau/derivatives/logs/cc_007_concatenated_raw_src.log\n",
      "cc_007_concatenated_raw : 2024-09-26 16:37:24 : Starting OSL Processing\n",
      "cc_007_concatenated_raw : input : /home/clement/Bureau/derivatives/cc_007\n",
      "cc_007_concatenated_raw : *** RUNNING OSL RHINO FORWARD MODEL ***\n",
      "cc_007_concatenated_raw : Using bet_inskull_surf_file for single shell surface\n"
     ]
    },
    {
     "name": "stderr",
     "output_type": "stream",
     "text": [
      "/home/clement/Bureau/fsl/envs/osl/lib/python3.8/site-packages/osl/source_recon/batch.py:147: RuntimeWarning: Log entries will be appended to the file. Use overwrite=False to avoid this message in the future.\n",
      "  mne.utils._logging.set_log_file(logfile)\n"
     ]
    },
    {
     "name": "stdout",
     "output_type": "stream",
     "text": [
      "cc_007_concatenated_raw : *** OSL RHINO FORWARD MODEL COMPLETE ***\n",
      "cc_007_concatenated_raw : beamform_and_parcellate\n",
      "cc_007_concatenated_raw : bandpass filtering: 1-45 Hz\n",
      "cc_007_concatenated_raw : beamforming.make_lcmv\n",
      "cc_007_concatenated_raw : chantypes: ['mag', 'grad']\n",
      "cc_007_concatenated_raw : rank: {'meg': 60}\n",
      "cc_007_concatenated_raw : *** RUNNING OSL MAKE LCMV ***\n",
      "cc_007_concatenated_raw : variance for chantype mag is 2.1718125791590104e-25\n",
      "cc_007_concatenated_raw : variance for chantype grad is 7.879571815504983e-23\n",
      "cc_007_concatenated_raw : saving /home/clement/Bureau/derivatives/cc_007/beamform/filters-lcmv.h5\n",
      "cc_007_concatenated_raw : *** OSL MAKE LCMV COMPLETE ***\n",
      "cc_007_concatenated_raw : beamforming.apply_lcmv\n",
      "cc_007_concatenated_raw : spatial_resolution = 8 mm\n",
      "cc_007_concatenated_raw : parcellation\n",
      "cc_007_concatenated_raw : using file Glasser52_binary_space-MNI152NLin6_res-8x8x8.nii.gz\n",
      "cc_007_concatenated_raw : gridstep = 8 mm\n"
     ]
    },
    {
     "name": "stderr",
     "output_type": "stream",
     "text": [
      "Warning: An input intended to be a single 3D volume has multiple timepoints. Input will be truncated to first volume, but this functionality is deprecated and will be removed in a future release.\n"
     ]
    },
    {
     "name": "stdout",
     "output_type": "stream",
     "text": [
      "cc_007_concatenated_raw : symmetric orthogonalisation\n",
      "cc_007_concatenated_raw : saving /home/clement/Bureau/derivatives/cc_007/parc/parc-raw.fif\n",
      "cc_007_concatenated_raw : saving /home/clement/Bureau/derivatives/cc_007/parc/psd.png\n",
      "cc_007_concatenated_raw : saving /home/clement/Bureau/derivatives/cc_007/parc/corr.png\n",
      "lr_008_concatenated_raw : OSL osl_logger: handler 'console' level set to 'INFO'\n",
      "lr_008_concatenated_raw : logging to file: /home/clement/Bureau/derivatives/logs/lr_008_concatenated_raw_src.log\n",
      "lr_008_concatenated_raw : 2024-09-26 16:38:54 : Starting OSL Processing\n",
      "lr_008_concatenated_raw : input : /home/clement/Bureau/derivatives/lr_008\n",
      "lr_008_concatenated_raw : *** RUNNING OSL RHINO FORWARD MODEL ***\n",
      "lr_008_concatenated_raw : Using bet_inskull_surf_file for single shell surface\n"
     ]
    },
    {
     "name": "stderr",
     "output_type": "stream",
     "text": [
      "/home/clement/Bureau/fsl/envs/osl/lib/python3.8/site-packages/osl/source_recon/batch.py:147: RuntimeWarning: Log entries will be appended to the file. Use overwrite=False to avoid this message in the future.\n",
      "  mne.utils._logging.set_log_file(logfile)\n"
     ]
    },
    {
     "name": "stdout",
     "output_type": "stream",
     "text": [
      "lr_008_concatenated_raw : *** OSL RHINO FORWARD MODEL COMPLETE ***\n",
      "lr_008_concatenated_raw : beamform_and_parcellate\n",
      "lr_008_concatenated_raw : bandpass filtering: 1-45 Hz\n",
      "lr_008_concatenated_raw : beamforming.make_lcmv\n",
      "lr_008_concatenated_raw : chantypes: ['mag', 'grad']\n",
      "lr_008_concatenated_raw : rank: {'meg': 60}\n",
      "lr_008_concatenated_raw : *** RUNNING OSL MAKE LCMV ***\n",
      "lr_008_concatenated_raw : variance for chantype mag is 3.82184042097965e-26\n",
      "lr_008_concatenated_raw : variance for chantype grad is 2.046462174834012e-23\n",
      "lr_008_concatenated_raw : saving /home/clement/Bureau/derivatives/lr_008/beamform/filters-lcmv.h5\n",
      "lr_008_concatenated_raw : *** OSL MAKE LCMV COMPLETE ***\n",
      "lr_008_concatenated_raw : beamforming.apply_lcmv\n",
      "lr_008_concatenated_raw : spatial_resolution = 8 mm\n",
      "lr_008_concatenated_raw : parcellation\n",
      "lr_008_concatenated_raw : using file Glasser52_binary_space-MNI152NLin6_res-8x8x8.nii.gz\n",
      "lr_008_concatenated_raw : gridstep = 8 mm\n"
     ]
    },
    {
     "name": "stderr",
     "output_type": "stream",
     "text": [
      "Warning: An input intended to be a single 3D volume has multiple timepoints. Input will be truncated to first volume, but this functionality is deprecated and will be removed in a future release.\n"
     ]
    },
    {
     "name": "stdout",
     "output_type": "stream",
     "text": [
      "lr_008_concatenated_raw : symmetric orthogonalisation\n",
      "lr_008_concatenated_raw : saving /home/clement/Bureau/derivatives/lr_008/parc/parc-raw.fif\n",
      "lr_008_concatenated_raw : saving /home/clement/Bureau/derivatives/lr_008/parc/psd.png\n",
      "lr_008_concatenated_raw : saving /home/clement/Bureau/derivatives/lr_008/parc/corr.png\n",
      "pe_009_concatenated_raw : OSL osl_logger: handler 'console' level set to 'INFO'\n",
      "pe_009_concatenated_raw : logging to file: /home/clement/Bureau/derivatives/logs/pe_009_concatenated_raw_src.log\n",
      "pe_009_concatenated_raw : 2024-09-26 16:40:25 : Starting OSL Processing\n",
      "pe_009_concatenated_raw : input : /home/clement/Bureau/derivatives/pe_009\n",
      "pe_009_concatenated_raw : *** RUNNING OSL RHINO FORWARD MODEL ***\n",
      "pe_009_concatenated_raw : Using bet_inskull_surf_file for single shell surface\n"
     ]
    },
    {
     "name": "stderr",
     "output_type": "stream",
     "text": [
      "/home/clement/Bureau/fsl/envs/osl/lib/python3.8/site-packages/osl/source_recon/batch.py:147: RuntimeWarning: Log entries will be appended to the file. Use overwrite=False to avoid this message in the future.\n",
      "  mne.utils._logging.set_log_file(logfile)\n"
     ]
    },
    {
     "name": "stdout",
     "output_type": "stream",
     "text": [
      "pe_009_concatenated_raw : *** OSL RHINO FORWARD MODEL COMPLETE ***\n",
      "pe_009_concatenated_raw : beamform_and_parcellate\n",
      "pe_009_concatenated_raw : bandpass filtering: 1-45 Hz\n",
      "pe_009_concatenated_raw : beamforming.make_lcmv\n",
      "pe_009_concatenated_raw : chantypes: ['mag', 'grad']\n",
      "pe_009_concatenated_raw : rank: {'meg': 60}\n",
      "pe_009_concatenated_raw : *** RUNNING OSL MAKE LCMV ***\n",
      "pe_009_concatenated_raw : variance for chantype mag is 3.43379806560004e-26\n",
      "pe_009_concatenated_raw : variance for chantype grad is 1.4996582770412323e-23\n",
      "pe_009_concatenated_raw : saving /home/clement/Bureau/derivatives/pe_009/beamform/filters-lcmv.h5\n",
      "pe_009_concatenated_raw : *** OSL MAKE LCMV COMPLETE ***\n",
      "pe_009_concatenated_raw : beamforming.apply_lcmv\n",
      "pe_009_concatenated_raw : spatial_resolution = 8 mm\n",
      "pe_009_concatenated_raw : parcellation\n",
      "pe_009_concatenated_raw : using file Glasser52_binary_space-MNI152NLin6_res-8x8x8.nii.gz\n",
      "pe_009_concatenated_raw : gridstep = 8 mm\n"
     ]
    },
    {
     "name": "stderr",
     "output_type": "stream",
     "text": [
      "Warning: An input intended to be a single 3D volume has multiple timepoints. Input will be truncated to first volume, but this functionality is deprecated and will be removed in a future release.\n"
     ]
    },
    {
     "name": "stdout",
     "output_type": "stream",
     "text": [
      "pe_009_concatenated_raw : symmetric orthogonalisation\n",
      "pe_009_concatenated_raw : saving /home/clement/Bureau/derivatives/pe_009/parc/parc-raw.fif\n",
      "pe_009_concatenated_raw : saving /home/clement/Bureau/derivatives/pe_009/parc/psd.png\n",
      "pe_009_concatenated_raw : saving /home/clement/Bureau/derivatives/pe_009/parc/corr.png\n",
      "sg_010_concatenated_raw : OSL osl_logger: handler 'console' level set to 'INFO'\n",
      "sg_010_concatenated_raw : logging to file: /home/clement/Bureau/derivatives/logs/sg_010_concatenated_raw_src.log\n",
      "sg_010_concatenated_raw : 2024-09-26 16:41:56 : Starting OSL Processing\n",
      "sg_010_concatenated_raw : input : /home/clement/Bureau/derivatives/sg_010\n",
      "sg_010_concatenated_raw : *** RUNNING OSL RHINO FORWARD MODEL ***\n",
      "sg_010_concatenated_raw : Using bet_inskull_surf_file for single shell surface\n"
     ]
    },
    {
     "name": "stderr",
     "output_type": "stream",
     "text": [
      "/home/clement/Bureau/fsl/envs/osl/lib/python3.8/site-packages/osl/source_recon/batch.py:147: RuntimeWarning: Log entries will be appended to the file. Use overwrite=False to avoid this message in the future.\n",
      "  mne.utils._logging.set_log_file(logfile)\n"
     ]
    },
    {
     "name": "stdout",
     "output_type": "stream",
     "text": [
      "sg_010_concatenated_raw : *** OSL RHINO FORWARD MODEL COMPLETE ***\n",
      "sg_010_concatenated_raw : beamform_and_parcellate\n",
      "sg_010_concatenated_raw : bandpass filtering: 1-45 Hz\n",
      "sg_010_concatenated_raw : beamforming.make_lcmv\n",
      "sg_010_concatenated_raw : chantypes: ['mag', 'grad']\n",
      "sg_010_concatenated_raw : rank: {'meg': 60}\n",
      "sg_010_concatenated_raw : *** RUNNING OSL MAKE LCMV ***\n",
      "sg_010_concatenated_raw : variance for chantype mag is 2.2523535923141852e-26\n",
      "sg_010_concatenated_raw : variance for chantype grad is 1.0172072713179763e-23\n",
      "sg_010_concatenated_raw : saving /home/clement/Bureau/derivatives/sg_010/beamform/filters-lcmv.h5\n",
      "sg_010_concatenated_raw : *** OSL MAKE LCMV COMPLETE ***\n",
      "sg_010_concatenated_raw : beamforming.apply_lcmv\n",
      "sg_010_concatenated_raw : spatial_resolution = 8 mm\n",
      "sg_010_concatenated_raw : parcellation\n",
      "sg_010_concatenated_raw : using file Glasser52_binary_space-MNI152NLin6_res-8x8x8.nii.gz\n",
      "sg_010_concatenated_raw : gridstep = 8 mm\n"
     ]
    },
    {
     "name": "stderr",
     "output_type": "stream",
     "text": [
      "Warning: An input intended to be a single 3D volume has multiple timepoints. Input will be truncated to first volume, but this functionality is deprecated and will be removed in a future release.\n"
     ]
    },
    {
     "name": "stdout",
     "output_type": "stream",
     "text": [
      "sg_010_concatenated_raw : symmetric orthogonalisation\n",
      "sg_010_concatenated_raw : saving /home/clement/Bureau/derivatives/sg_010/parc/parc-raw.fif\n",
      "sg_010_concatenated_raw : saving /home/clement/Bureau/derivatives/sg_010/parc/psd.png\n",
      "sg_010_concatenated_raw : saving /home/clement/Bureau/derivatives/sg_010/parc/corr.png\n",
      "gp_011_concatenated_raw : OSL osl_logger: handler 'console' level set to 'INFO'\n",
      "gp_011_concatenated_raw : logging to file: /home/clement/Bureau/derivatives/logs/gp_011_concatenated_raw_src.log\n",
      "gp_011_concatenated_raw : 2024-09-26 16:43:26 : Starting OSL Processing\n",
      "gp_011_concatenated_raw : input : /home/clement/Bureau/derivatives/gp_011\n",
      "gp_011_concatenated_raw : *** RUNNING OSL RHINO FORWARD MODEL ***\n",
      "gp_011_concatenated_raw : Using bet_inskull_surf_file for single shell surface\n"
     ]
    },
    {
     "name": "stderr",
     "output_type": "stream",
     "text": [
      "/home/clement/Bureau/fsl/envs/osl/lib/python3.8/site-packages/osl/source_recon/batch.py:147: RuntimeWarning: Log entries will be appended to the file. Use overwrite=False to avoid this message in the future.\n",
      "  mne.utils._logging.set_log_file(logfile)\n"
     ]
    },
    {
     "name": "stdout",
     "output_type": "stream",
     "text": [
      "gp_011_concatenated_raw : *** OSL RHINO FORWARD MODEL COMPLETE ***\n",
      "gp_011_concatenated_raw : beamform_and_parcellate\n",
      "gp_011_concatenated_raw : bandpass filtering: 1-45 Hz\n",
      "gp_011_concatenated_raw : beamforming.make_lcmv\n",
      "gp_011_concatenated_raw : chantypes: ['mag', 'grad']\n",
      "gp_011_concatenated_raw : rank: {'meg': 60}\n",
      "gp_011_concatenated_raw : *** RUNNING OSL MAKE LCMV ***\n",
      "gp_011_concatenated_raw : variance for chantype mag is 3.325538877056135e-26\n",
      "gp_011_concatenated_raw : variance for chantype grad is 1.6283376253227622e-23\n",
      "gp_011_concatenated_raw : saving /home/clement/Bureau/derivatives/gp_011/beamform/filters-lcmv.h5\n",
      "gp_011_concatenated_raw : *** OSL MAKE LCMV COMPLETE ***\n",
      "gp_011_concatenated_raw : beamforming.apply_lcmv\n",
      "gp_011_concatenated_raw : spatial_resolution = 8 mm\n",
      "gp_011_concatenated_raw : parcellation\n",
      "gp_011_concatenated_raw : using file Glasser52_binary_space-MNI152NLin6_res-8x8x8.nii.gz\n",
      "gp_011_concatenated_raw : gridstep = 8 mm\n"
     ]
    },
    {
     "name": "stderr",
     "output_type": "stream",
     "text": [
      "Warning: An input intended to be a single 3D volume has multiple timepoints. Input will be truncated to first volume, but this functionality is deprecated and will be removed in a future release.\n"
     ]
    },
    {
     "name": "stdout",
     "output_type": "stream",
     "text": [
      "gp_011_concatenated_raw : symmetric orthogonalisation\n",
      "gp_011_concatenated_raw : saving /home/clement/Bureau/derivatives/gp_011/parc/parc-raw.fif\n",
      "gp_011_concatenated_raw : saving /home/clement/Bureau/derivatives/gp_011/parc/psd.png\n",
      "gp_011_concatenated_raw : saving /home/clement/Bureau/derivatives/gp_011/parc/corr.png\n",
      "lf_012_concatenated_raw : OSL osl_logger: handler 'console' level set to 'INFO'\n",
      "lf_012_concatenated_raw : logging to file: /home/clement/Bureau/derivatives/logs/lf_012_concatenated_raw_src.log\n",
      "lf_012_concatenated_raw : 2024-09-26 16:44:59 : Starting OSL Processing\n",
      "lf_012_concatenated_raw : input : /home/clement/Bureau/derivatives/lf_012\n",
      "lf_012_concatenated_raw : *** RUNNING OSL RHINO FORWARD MODEL ***\n",
      "lf_012_concatenated_raw : Using bet_inskull_surf_file for single shell surface\n"
     ]
    },
    {
     "name": "stderr",
     "output_type": "stream",
     "text": [
      "/home/clement/Bureau/fsl/envs/osl/lib/python3.8/site-packages/osl/source_recon/batch.py:147: RuntimeWarning: Log entries will be appended to the file. Use overwrite=False to avoid this message in the future.\n",
      "  mne.utils._logging.set_log_file(logfile)\n"
     ]
    },
    {
     "name": "stdout",
     "output_type": "stream",
     "text": [
      "lf_012_concatenated_raw : *** OSL RHINO FORWARD MODEL COMPLETE ***\n",
      "lf_012_concatenated_raw : beamform_and_parcellate\n",
      "lf_012_concatenated_raw : bandpass filtering: 1-45 Hz\n",
      "lf_012_concatenated_raw : beamforming.make_lcmv\n",
      "lf_012_concatenated_raw : chantypes: ['mag', 'grad']\n",
      "lf_012_concatenated_raw : rank: {'meg': 60}\n",
      "lf_012_concatenated_raw : *** RUNNING OSL MAKE LCMV ***\n",
      "lf_012_concatenated_raw : variance for chantype mag is 8.08196424811275e-26\n",
      "lf_012_concatenated_raw : variance for chantype grad is 3.0393440290328785e-23\n",
      "lf_012_concatenated_raw : saving /home/clement/Bureau/derivatives/lf_012/beamform/filters-lcmv.h5\n",
      "lf_012_concatenated_raw : *** OSL MAKE LCMV COMPLETE ***\n",
      "lf_012_concatenated_raw : beamforming.apply_lcmv\n",
      "lf_012_concatenated_raw : spatial_resolution = 8 mm\n",
      "lf_012_concatenated_raw : parcellation\n",
      "lf_012_concatenated_raw : using file Glasser52_binary_space-MNI152NLin6_res-8x8x8.nii.gz\n",
      "lf_012_concatenated_raw : gridstep = 8 mm\n"
     ]
    },
    {
     "name": "stderr",
     "output_type": "stream",
     "text": [
      "Warning: An input intended to be a single 3D volume has multiple timepoints. Input will be truncated to first volume, but this functionality is deprecated and will be removed in a future release.\n"
     ]
    },
    {
     "name": "stdout",
     "output_type": "stream",
     "text": [
      "lf_012_concatenated_raw : symmetric orthogonalisation\n",
      "lf_012_concatenated_raw : saving /home/clement/Bureau/derivatives/lf_012/parc/parc-raw.fif\n",
      "lf_012_concatenated_raw : saving /home/clement/Bureau/derivatives/lf_012/parc/psd.png\n",
      "lf_012_concatenated_raw : saving /home/clement/Bureau/derivatives/lf_012/parc/corr.png\n",
      "cm_013_concatenated_raw : OSL osl_logger: handler 'console' level set to 'INFO'\n",
      "cm_013_concatenated_raw : logging to file: /home/clement/Bureau/derivatives/logs/cm_013_concatenated_raw_src.log\n",
      "cm_013_concatenated_raw : 2024-09-26 16:46:22 : Starting OSL Processing\n",
      "cm_013_concatenated_raw : input : /home/clement/Bureau/derivatives/cm_013\n",
      "cm_013_concatenated_raw : *** RUNNING OSL RHINO FORWARD MODEL ***\n",
      "cm_013_concatenated_raw : Using bet_inskull_surf_file for single shell surface\n"
     ]
    },
    {
     "name": "stderr",
     "output_type": "stream",
     "text": [
      "/home/clement/Bureau/fsl/envs/osl/lib/python3.8/site-packages/osl/source_recon/batch.py:147: RuntimeWarning: Log entries will be appended to the file. Use overwrite=False to avoid this message in the future.\n",
      "  mne.utils._logging.set_log_file(logfile)\n"
     ]
    },
    {
     "name": "stdout",
     "output_type": "stream",
     "text": [
      "cm_013_concatenated_raw : *** OSL RHINO FORWARD MODEL COMPLETE ***\n",
      "cm_013_concatenated_raw : beamform_and_parcellate\n",
      "cm_013_concatenated_raw : bandpass filtering: 1-45 Hz\n",
      "cm_013_concatenated_raw : beamforming.make_lcmv\n",
      "cm_013_concatenated_raw : chantypes: ['mag', 'grad']\n",
      "cm_013_concatenated_raw : rank: {'meg': 60}\n",
      "cm_013_concatenated_raw : *** RUNNING OSL MAKE LCMV ***\n",
      "cm_013_concatenated_raw : variance for chantype mag is 7.987022615137415e-26\n",
      "cm_013_concatenated_raw : variance for chantype grad is 3.5832738557097857e-23\n",
      "cm_013_concatenated_raw : saving /home/clement/Bureau/derivatives/cm_013/beamform/filters-lcmv.h5\n",
      "cm_013_concatenated_raw : *** OSL MAKE LCMV COMPLETE ***\n",
      "cm_013_concatenated_raw : beamforming.apply_lcmv\n",
      "cm_013_concatenated_raw : spatial_resolution = 8 mm\n",
      "cm_013_concatenated_raw : parcellation\n",
      "cm_013_concatenated_raw : using file Glasser52_binary_space-MNI152NLin6_res-8x8x8.nii.gz\n",
      "cm_013_concatenated_raw : gridstep = 8 mm\n"
     ]
    },
    {
     "name": "stderr",
     "output_type": "stream",
     "text": [
      "Warning: An input intended to be a single 3D volume has multiple timepoints. Input will be truncated to first volume, but this functionality is deprecated and will be removed in a future release.\n"
     ]
    },
    {
     "name": "stdout",
     "output_type": "stream",
     "text": [
      "cm_013_concatenated_raw : symmetric orthogonalisation\n",
      "cm_013_concatenated_raw : saving /home/clement/Bureau/derivatives/cm_013/parc/parc-raw.fif\n",
      "cm_013_concatenated_raw : saving /home/clement/Bureau/derivatives/cm_013/parc/psd.png\n",
      "cm_013_concatenated_raw : saving /home/clement/Bureau/derivatives/cm_013/parc/corr.png\n",
      "bm_014_concatenated_raw : OSL osl_logger: handler 'console' level set to 'INFO'\n",
      "bm_014_concatenated_raw : logging to file: /home/clement/Bureau/derivatives/logs/bm_014_concatenated_raw_src.log\n",
      "bm_014_concatenated_raw : 2024-09-26 16:47:51 : Starting OSL Processing\n",
      "bm_014_concatenated_raw : input : /home/clement/Bureau/derivatives/bm_014\n",
      "bm_014_concatenated_raw : *** RUNNING OSL RHINO FORWARD MODEL ***\n",
      "bm_014_concatenated_raw : Using bet_inskull_surf_file for single shell surface\n"
     ]
    },
    {
     "name": "stderr",
     "output_type": "stream",
     "text": [
      "/home/clement/Bureau/fsl/envs/osl/lib/python3.8/site-packages/osl/source_recon/batch.py:147: RuntimeWarning: Log entries will be appended to the file. Use overwrite=False to avoid this message in the future.\n",
      "  mne.utils._logging.set_log_file(logfile)\n"
     ]
    },
    {
     "name": "stdout",
     "output_type": "stream",
     "text": [
      "bm_014_concatenated_raw : *** OSL RHINO FORWARD MODEL COMPLETE ***\n",
      "bm_014_concatenated_raw : beamform_and_parcellate\n",
      "bm_014_concatenated_raw : bandpass filtering: 1-45 Hz\n",
      "bm_014_concatenated_raw : beamforming.make_lcmv\n",
      "bm_014_concatenated_raw : chantypes: ['mag', 'grad']\n",
      "bm_014_concatenated_raw : rank: {'meg': 60}\n",
      "bm_014_concatenated_raw : *** RUNNING OSL MAKE LCMV ***\n",
      "bm_014_concatenated_raw : variance for chantype mag is 3.521662691801132e-26\n",
      "bm_014_concatenated_raw : variance for chantype grad is 1.7497000473683277e-23\n",
      "bm_014_concatenated_raw : saving /home/clement/Bureau/derivatives/bm_014/beamform/filters-lcmv.h5\n",
      "bm_014_concatenated_raw : *** OSL MAKE LCMV COMPLETE ***\n",
      "bm_014_concatenated_raw : beamforming.apply_lcmv\n",
      "bm_014_concatenated_raw : spatial_resolution = 8 mm\n",
      "bm_014_concatenated_raw : parcellation\n",
      "bm_014_concatenated_raw : using file Glasser52_binary_space-MNI152NLin6_res-8x8x8.nii.gz\n",
      "bm_014_concatenated_raw : gridstep = 8 mm\n"
     ]
    },
    {
     "name": "stderr",
     "output_type": "stream",
     "text": [
      "Warning: An input intended to be a single 3D volume has multiple timepoints. Input will be truncated to first volume, but this functionality is deprecated and will be removed in a future release.\n"
     ]
    },
    {
     "name": "stdout",
     "output_type": "stream",
     "text": [
      "bm_014_concatenated_raw : symmetric orthogonalisation\n",
      "bm_014_concatenated_raw : saving /home/clement/Bureau/derivatives/bm_014/parc/parc-raw.fif\n",
      "bm_014_concatenated_raw : saving /home/clement/Bureau/derivatives/bm_014/parc/psd.png\n",
      "bm_014_concatenated_raw : saving /home/clement/Bureau/derivatives/bm_014/parc/corr.png\n",
      "pr_015_concatenated_raw : OSL osl_logger: handler 'console' level set to 'INFO'\n",
      "pr_015_concatenated_raw : logging to file: /home/clement/Bureau/derivatives/logs/pr_015_concatenated_raw_src.log\n",
      "pr_015_concatenated_raw : 2024-09-26 16:49:23 : Starting OSL Processing\n",
      "pr_015_concatenated_raw : input : /home/clement/Bureau/derivatives/pr_015\n",
      "pr_015_concatenated_raw : *** RUNNING OSL RHINO FORWARD MODEL ***\n",
      "pr_015_concatenated_raw : Using bet_inskull_surf_file for single shell surface\n"
     ]
    },
    {
     "name": "stderr",
     "output_type": "stream",
     "text": [
      "/home/clement/Bureau/fsl/envs/osl/lib/python3.8/site-packages/osl/source_recon/batch.py:147: RuntimeWarning: Log entries will be appended to the file. Use overwrite=False to avoid this message in the future.\n",
      "  mne.utils._logging.set_log_file(logfile)\n"
     ]
    },
    {
     "name": "stdout",
     "output_type": "stream",
     "text": [
      "pr_015_concatenated_raw : *** OSL RHINO FORWARD MODEL COMPLETE ***\n",
      "pr_015_concatenated_raw : beamform_and_parcellate\n",
      "pr_015_concatenated_raw : bandpass filtering: 1-45 Hz\n",
      "pr_015_concatenated_raw : beamforming.make_lcmv\n",
      "pr_015_concatenated_raw : chantypes: ['mag', 'grad']\n",
      "pr_015_concatenated_raw : rank: {'meg': 60}\n",
      "pr_015_concatenated_raw : *** RUNNING OSL MAKE LCMV ***\n",
      "pr_015_concatenated_raw : variance for chantype mag is 2.3614909547405413e-26\n",
      "pr_015_concatenated_raw : variance for chantype grad is 1.0897878953965193e-23\n",
      "pr_015_concatenated_raw : saving /home/clement/Bureau/derivatives/pr_015/beamform/filters-lcmv.h5\n",
      "pr_015_concatenated_raw : *** OSL MAKE LCMV COMPLETE ***\n",
      "pr_015_concatenated_raw : beamforming.apply_lcmv\n",
      "pr_015_concatenated_raw : spatial_resolution = 8 mm\n",
      "pr_015_concatenated_raw : parcellation\n",
      "pr_015_concatenated_raw : using file Glasser52_binary_space-MNI152NLin6_res-8x8x8.nii.gz\n",
      "pr_015_concatenated_raw : gridstep = 8 mm\n"
     ]
    },
    {
     "name": "stderr",
     "output_type": "stream",
     "text": [
      "Warning: An input intended to be a single 3D volume has multiple timepoints. Input will be truncated to first volume, but this functionality is deprecated and will be removed in a future release.\n"
     ]
    },
    {
     "name": "stdout",
     "output_type": "stream",
     "text": [
      "pr_015_concatenated_raw : symmetric orthogonalisation\n",
      "pr_015_concatenated_raw : saving /home/clement/Bureau/derivatives/pr_015/parc/parc-raw.fif\n",
      "pr_015_concatenated_raw : saving /home/clement/Bureau/derivatives/pr_015/parc/psd.png\n",
      "pr_015_concatenated_raw : saving /home/clement/Bureau/derivatives/pr_015/parc/corr.png\n",
      "pl_016_concatenated_raw : OSL osl_logger: handler 'console' level set to 'INFO'\n",
      "pl_016_concatenated_raw : logging to file: /home/clement/Bureau/derivatives/logs/pl_016_concatenated_raw_src.log\n",
      "pl_016_concatenated_raw : 2024-09-26 16:50:52 : Starting OSL Processing\n",
      "pl_016_concatenated_raw : input : /home/clement/Bureau/derivatives/pl_016\n",
      "pl_016_concatenated_raw : *** RUNNING OSL RHINO FORWARD MODEL ***\n",
      "pl_016_concatenated_raw : Using bet_inskull_surf_file for single shell surface\n"
     ]
    },
    {
     "name": "stderr",
     "output_type": "stream",
     "text": [
      "/home/clement/Bureau/fsl/envs/osl/lib/python3.8/site-packages/osl/source_recon/batch.py:147: RuntimeWarning: Log entries will be appended to the file. Use overwrite=False to avoid this message in the future.\n",
      "  mne.utils._logging.set_log_file(logfile)\n"
     ]
    },
    {
     "name": "stdout",
     "output_type": "stream",
     "text": [
      "pl_016_concatenated_raw : *** OSL RHINO FORWARD MODEL COMPLETE ***\n",
      "pl_016_concatenated_raw : beamform_and_parcellate\n",
      "pl_016_concatenated_raw : bandpass filtering: 1-45 Hz\n",
      "pl_016_concatenated_raw : beamforming.make_lcmv\n",
      "pl_016_concatenated_raw : chantypes: ['mag', 'grad']\n",
      "pl_016_concatenated_raw : rank: {'meg': 60}\n",
      "pl_016_concatenated_raw : *** RUNNING OSL MAKE LCMV ***\n",
      "pl_016_concatenated_raw : variance for chantype mag is 3.0619554758951767e-26\n",
      "pl_016_concatenated_raw : variance for chantype grad is 1.441762225606606e-23\n",
      "pl_016_concatenated_raw : saving /home/clement/Bureau/derivatives/pl_016/beamform/filters-lcmv.h5\n",
      "pl_016_concatenated_raw : *** OSL MAKE LCMV COMPLETE ***\n",
      "pl_016_concatenated_raw : beamforming.apply_lcmv\n",
      "pl_016_concatenated_raw : spatial_resolution = 8 mm\n",
      "pl_016_concatenated_raw : parcellation\n",
      "pl_016_concatenated_raw : using file Glasser52_binary_space-MNI152NLin6_res-8x8x8.nii.gz\n",
      "pl_016_concatenated_raw : gridstep = 8 mm\n"
     ]
    },
    {
     "name": "stderr",
     "output_type": "stream",
     "text": [
      "Warning: An input intended to be a single 3D volume has multiple timepoints. Input will be truncated to first volume, but this functionality is deprecated and will be removed in a future release.\n"
     ]
    },
    {
     "name": "stdout",
     "output_type": "stream",
     "text": [
      "pl_016_concatenated_raw : symmetric orthogonalisation\n",
      "pl_016_concatenated_raw : saving /home/clement/Bureau/derivatives/pl_016/parc/parc-raw.fif\n",
      "pl_016_concatenated_raw : saving /home/clement/Bureau/derivatives/pl_016/parc/psd.png\n",
      "pl_016_concatenated_raw : saving /home/clement/Bureau/derivatives/pl_016/parc/corr.png\n",
      "gh_017_concatenated_raw : OSL osl_logger: handler 'console' level set to 'INFO'\n",
      "gh_017_concatenated_raw : logging to file: /home/clement/Bureau/derivatives/logs/gh_017_concatenated_raw_src.log\n",
      "gh_017_concatenated_raw : 2024-09-26 16:52:22 : Starting OSL Processing\n",
      "gh_017_concatenated_raw : input : /home/clement/Bureau/derivatives/gh_017\n",
      "gh_017_concatenated_raw : *** RUNNING OSL RHINO FORWARD MODEL ***\n",
      "gh_017_concatenated_raw : Using bet_inskull_surf_file for single shell surface\n"
     ]
    },
    {
     "name": "stderr",
     "output_type": "stream",
     "text": [
      "/home/clement/Bureau/fsl/envs/osl/lib/python3.8/site-packages/osl/source_recon/batch.py:147: RuntimeWarning: Log entries will be appended to the file. Use overwrite=False to avoid this message in the future.\n",
      "  mne.utils._logging.set_log_file(logfile)\n"
     ]
    },
    {
     "name": "stdout",
     "output_type": "stream",
     "text": [
      "gh_017_concatenated_raw : *** OSL RHINO FORWARD MODEL COMPLETE ***\n",
      "gh_017_concatenated_raw : beamform_and_parcellate\n",
      "gh_017_concatenated_raw : bandpass filtering: 1-45 Hz\n",
      "gh_017_concatenated_raw : beamforming.make_lcmv\n",
      "gh_017_concatenated_raw : chantypes: ['mag', 'grad']\n",
      "gh_017_concatenated_raw : rank: {'meg': 60}\n",
      "gh_017_concatenated_raw : *** RUNNING OSL MAKE LCMV ***\n",
      "gh_017_concatenated_raw : variance for chantype mag is 7.260648549566771e-26\n",
      "gh_017_concatenated_raw : variance for chantype grad is 3.36692847499881e-23\n",
      "gh_017_concatenated_raw : saving /home/clement/Bureau/derivatives/gh_017/beamform/filters-lcmv.h5\n",
      "gh_017_concatenated_raw : *** OSL MAKE LCMV COMPLETE ***\n",
      "gh_017_concatenated_raw : beamforming.apply_lcmv\n",
      "gh_017_concatenated_raw : spatial_resolution = 8 mm\n",
      "gh_017_concatenated_raw : parcellation\n",
      "gh_017_concatenated_raw : using file Glasser52_binary_space-MNI152NLin6_res-8x8x8.nii.gz\n",
      "gh_017_concatenated_raw : gridstep = 8 mm\n"
     ]
    },
    {
     "name": "stderr",
     "output_type": "stream",
     "text": [
      "Warning: An input intended to be a single 3D volume has multiple timepoints. Input will be truncated to first volume, but this functionality is deprecated and will be removed in a future release.\n"
     ]
    },
    {
     "name": "stdout",
     "output_type": "stream",
     "text": [
      "gh_017_concatenated_raw : symmetric orthogonalisation\n",
      "gh_017_concatenated_raw : saving /home/clement/Bureau/derivatives/gh_017/parc/parc-raw.fif\n",
      "gh_017_concatenated_raw : saving /home/clement/Bureau/derivatives/gh_017/parc/psd.png\n",
      "gh_017_concatenated_raw : saving /home/clement/Bureau/derivatives/gh_017/parc/corr.png\n",
      "el_018_concatenated_raw : OSL osl_logger: handler 'console' level set to 'INFO'\n",
      "el_018_concatenated_raw : logging to file: /home/clement/Bureau/derivatives/logs/el_018_concatenated_raw_src.log\n",
      "el_018_concatenated_raw : 2024-09-26 16:53:53 : Starting OSL Processing\n",
      "el_018_concatenated_raw : input : /home/clement/Bureau/derivatives/el_018\n",
      "el_018_concatenated_raw : *** RUNNING OSL RHINO FORWARD MODEL ***\n",
      "el_018_concatenated_raw : Using bet_inskull_surf_file for single shell surface\n"
     ]
    },
    {
     "name": "stderr",
     "output_type": "stream",
     "text": [
      "/home/clement/Bureau/fsl/envs/osl/lib/python3.8/site-packages/osl/source_recon/batch.py:147: RuntimeWarning: Log entries will be appended to the file. Use overwrite=False to avoid this message in the future.\n",
      "  mne.utils._logging.set_log_file(logfile)\n"
     ]
    },
    {
     "name": "stdout",
     "output_type": "stream",
     "text": [
      "el_018_concatenated_raw : *** OSL RHINO FORWARD MODEL COMPLETE ***\n",
      "el_018_concatenated_raw : beamform_and_parcellate\n",
      "el_018_concatenated_raw : bandpass filtering: 1-45 Hz\n",
      "el_018_concatenated_raw : beamforming.make_lcmv\n",
      "el_018_concatenated_raw : chantypes: ['mag', 'grad']\n",
      "el_018_concatenated_raw : rank: {'meg': 60}\n",
      "el_018_concatenated_raw : *** RUNNING OSL MAKE LCMV ***\n",
      "el_018_concatenated_raw : variance for chantype mag is 7.819251474505137e-26\n",
      "el_018_concatenated_raw : variance for chantype grad is 3.470479601181517e-23\n",
      "el_018_concatenated_raw : saving /home/clement/Bureau/derivatives/el_018/beamform/filters-lcmv.h5\n",
      "el_018_concatenated_raw : *** OSL MAKE LCMV COMPLETE ***\n",
      "el_018_concatenated_raw : beamforming.apply_lcmv\n",
      "el_018_concatenated_raw : spatial_resolution = 8 mm\n",
      "el_018_concatenated_raw : parcellation\n",
      "el_018_concatenated_raw : using file Glasser52_binary_space-MNI152NLin6_res-8x8x8.nii.gz\n",
      "el_018_concatenated_raw : gridstep = 8 mm\n"
     ]
    },
    {
     "name": "stderr",
     "output_type": "stream",
     "text": [
      "Warning: An input intended to be a single 3D volume has multiple timepoints. Input will be truncated to first volume, but this functionality is deprecated and will be removed in a future release.\n"
     ]
    },
    {
     "name": "stdout",
     "output_type": "stream",
     "text": [
      "el_018_concatenated_raw : symmetric orthogonalisation\n",
      "el_018_concatenated_raw : saving /home/clement/Bureau/derivatives/el_018/parc/parc-raw.fif\n",
      "el_018_concatenated_raw : saving /home/clement/Bureau/derivatives/el_018/parc/psd.png\n",
      "el_018_concatenated_raw : saving /home/clement/Bureau/derivatives/el_018/parc/corr.png\n",
      "ca_019_concatenated_raw : OSL osl_logger: handler 'console' level set to 'INFO'\n",
      "ca_019_concatenated_raw : logging to file: /home/clement/Bureau/derivatives/logs/ca_019_concatenated_raw_src.log\n",
      "ca_019_concatenated_raw : 2024-09-26 16:55:29 : Starting OSL Processing\n",
      "ca_019_concatenated_raw : input : /home/clement/Bureau/derivatives/ca_019\n",
      "ca_019_concatenated_raw : *** RUNNING OSL RHINO FORWARD MODEL ***\n",
      "ca_019_concatenated_raw : Using bet_inskull_surf_file for single shell surface\n"
     ]
    },
    {
     "name": "stderr",
     "output_type": "stream",
     "text": [
      "/home/clement/Bureau/fsl/envs/osl/lib/python3.8/site-packages/osl/source_recon/batch.py:147: RuntimeWarning: Log entries will be appended to the file. Use overwrite=False to avoid this message in the future.\n",
      "  mne.utils._logging.set_log_file(logfile)\n"
     ]
    },
    {
     "name": "stdout",
     "output_type": "stream",
     "text": [
      "ca_019_concatenated_raw : *** OSL RHINO FORWARD MODEL COMPLETE ***\n",
      "ca_019_concatenated_raw : beamform_and_parcellate\n",
      "ca_019_concatenated_raw : bandpass filtering: 1-45 Hz\n",
      "ca_019_concatenated_raw : beamforming.make_lcmv\n",
      "ca_019_concatenated_raw : chantypes: ['mag', 'grad']\n",
      "ca_019_concatenated_raw : rank: {'meg': 60}\n",
      "ca_019_concatenated_raw : *** RUNNING OSL MAKE LCMV ***\n",
      "ca_019_concatenated_raw : variance for chantype mag is 4.253867014202327e-26\n",
      "ca_019_concatenated_raw : variance for chantype grad is 1.990775313977624e-23\n",
      "ca_019_concatenated_raw : saving /home/clement/Bureau/derivatives/ca_019/beamform/filters-lcmv.h5\n",
      "ca_019_concatenated_raw : *** OSL MAKE LCMV COMPLETE ***\n",
      "ca_019_concatenated_raw : beamforming.apply_lcmv\n",
      "ca_019_concatenated_raw : spatial_resolution = 8 mm\n",
      "ca_019_concatenated_raw : parcellation\n",
      "ca_019_concatenated_raw : using file Glasser52_binary_space-MNI152NLin6_res-8x8x8.nii.gz\n",
      "ca_019_concatenated_raw : gridstep = 8 mm\n"
     ]
    },
    {
     "name": "stderr",
     "output_type": "stream",
     "text": [
      "Warning: An input intended to be a single 3D volume has multiple timepoints. Input will be truncated to first volume, but this functionality is deprecated and will be removed in a future release.\n"
     ]
    },
    {
     "name": "stdout",
     "output_type": "stream",
     "text": [
      "ca_019_concatenated_raw : symmetric orthogonalisation\n",
      "ca_019_concatenated_raw : saving /home/clement/Bureau/derivatives/ca_019/parc/parc-raw.fif\n",
      "ca_019_concatenated_raw : saving /home/clement/Bureau/derivatives/ca_019/parc/psd.png\n",
      "ca_019_concatenated_raw : saving /home/clement/Bureau/derivatives/ca_019/parc/corr.png\n",
      "gb_020_concatenated_raw : OSL osl_logger: handler 'console' level set to 'INFO'\n",
      "gb_020_concatenated_raw : logging to file: /home/clement/Bureau/derivatives/logs/gb_020_concatenated_raw_src.log\n",
      "gb_020_concatenated_raw : 2024-09-26 16:57:01 : Starting OSL Processing\n",
      "gb_020_concatenated_raw : input : /home/clement/Bureau/derivatives/gb_020\n",
      "gb_020_concatenated_raw : *** RUNNING OSL RHINO FORWARD MODEL ***\n",
      "gb_020_concatenated_raw : Using bet_inskull_surf_file for single shell surface\n"
     ]
    },
    {
     "name": "stderr",
     "output_type": "stream",
     "text": [
      "/home/clement/Bureau/fsl/envs/osl/lib/python3.8/site-packages/osl/source_recon/batch.py:147: RuntimeWarning: Log entries will be appended to the file. Use overwrite=False to avoid this message in the future.\n",
      "  mne.utils._logging.set_log_file(logfile)\n"
     ]
    },
    {
     "name": "stdout",
     "output_type": "stream",
     "text": [
      "gb_020_concatenated_raw : *** OSL RHINO FORWARD MODEL COMPLETE ***\n",
      "gb_020_concatenated_raw : beamform_and_parcellate\n",
      "gb_020_concatenated_raw : bandpass filtering: 1-45 Hz\n",
      "gb_020_concatenated_raw : beamforming.make_lcmv\n",
      "gb_020_concatenated_raw : chantypes: ['mag', 'grad']\n",
      "gb_020_concatenated_raw : rank: {'meg': 60}\n",
      "gb_020_concatenated_raw : *** RUNNING OSL MAKE LCMV ***\n",
      "gb_020_concatenated_raw : variance for chantype mag is 6.598229144364775e-26\n",
      "gb_020_concatenated_raw : variance for chantype grad is 3.2569081122968066e-23\n",
      "gb_020_concatenated_raw : saving /home/clement/Bureau/derivatives/gb_020/beamform/filters-lcmv.h5\n",
      "gb_020_concatenated_raw : *** OSL MAKE LCMV COMPLETE ***\n",
      "gb_020_concatenated_raw : beamforming.apply_lcmv\n",
      "gb_020_concatenated_raw : spatial_resolution = 8 mm\n",
      "gb_020_concatenated_raw : parcellation\n",
      "gb_020_concatenated_raw : using file Glasser52_binary_space-MNI152NLin6_res-8x8x8.nii.gz\n",
      "gb_020_concatenated_raw : gridstep = 8 mm\n"
     ]
    },
    {
     "name": "stderr",
     "output_type": "stream",
     "text": [
      "Warning: An input intended to be a single 3D volume has multiple timepoints. Input will be truncated to first volume, but this functionality is deprecated and will be removed in a future release.\n"
     ]
    },
    {
     "name": "stdout",
     "output_type": "stream",
     "text": [
      "gb_020_concatenated_raw : symmetric orthogonalisation\n",
      "gb_020_concatenated_raw : saving /home/clement/Bureau/derivatives/gb_020/parc/parc-raw.fif\n",
      "gb_020_concatenated_raw : saving /home/clement/Bureau/derivatives/gb_020/parc/psd.png\n",
      "gb_020_concatenated_raw : saving /home/clement/Bureau/derivatives/gb_020/parc/corr.png\n",
      "dm_022_concatenated_raw : OSL osl_logger: handler 'console' level set to 'INFO'\n",
      "dm_022_concatenated_raw : logging to file: /home/clement/Bureau/derivatives/logs/dm_022_concatenated_raw_src.log\n",
      "dm_022_concatenated_raw : 2024-09-26 16:58:29 : Starting OSL Processing\n",
      "dm_022_concatenated_raw : input : /home/clement/Bureau/derivatives/dm_022\n",
      "dm_022_concatenated_raw : *** RUNNING OSL RHINO FORWARD MODEL ***\n",
      "dm_022_concatenated_raw : Using bet_inskull_surf_file for single shell surface\n"
     ]
    },
    {
     "name": "stderr",
     "output_type": "stream",
     "text": [
      "/home/clement/Bureau/fsl/envs/osl/lib/python3.8/site-packages/osl/source_recon/batch.py:147: RuntimeWarning: Log entries will be appended to the file. Use overwrite=False to avoid this message in the future.\n",
      "  mne.utils._logging.set_log_file(logfile)\n"
     ]
    },
    {
     "name": "stdout",
     "output_type": "stream",
     "text": [
      "dm_022_concatenated_raw : *** OSL RHINO FORWARD MODEL COMPLETE ***\n",
      "dm_022_concatenated_raw : beamform_and_parcellate\n",
      "dm_022_concatenated_raw : bandpass filtering: 1-45 Hz\n",
      "dm_022_concatenated_raw : beamforming.make_lcmv\n",
      "dm_022_concatenated_raw : chantypes: ['mag', 'grad']\n",
      "dm_022_concatenated_raw : rank: {'meg': 60}\n",
      "dm_022_concatenated_raw : *** RUNNING OSL MAKE LCMV ***\n",
      "dm_022_concatenated_raw : variance for chantype mag is 7.023999635639898e-26\n",
      "dm_022_concatenated_raw : variance for chantype grad is 3.4639931396350356e-23\n",
      "dm_022_concatenated_raw : saving /home/clement/Bureau/derivatives/dm_022/beamform/filters-lcmv.h5\n",
      "dm_022_concatenated_raw : *** OSL MAKE LCMV COMPLETE ***\n",
      "dm_022_concatenated_raw : beamforming.apply_lcmv\n",
      "dm_022_concatenated_raw : spatial_resolution = 8 mm\n",
      "dm_022_concatenated_raw : parcellation\n",
      "dm_022_concatenated_raw : using file Glasser52_binary_space-MNI152NLin6_res-8x8x8.nii.gz\n",
      "dm_022_concatenated_raw : gridstep = 8 mm\n"
     ]
    },
    {
     "name": "stderr",
     "output_type": "stream",
     "text": [
      "Warning: An input intended to be a single 3D volume has multiple timepoints. Input will be truncated to first volume, but this functionality is deprecated and will be removed in a future release.\n"
     ]
    },
    {
     "name": "stdout",
     "output_type": "stream",
     "text": [
      "dm_022_concatenated_raw : symmetric orthogonalisation\n",
      "dm_022_concatenated_raw : saving /home/clement/Bureau/derivatives/dm_022/parc/parc-raw.fif\n",
      "dm_022_concatenated_raw : saving /home/clement/Bureau/derivatives/dm_022/parc/psd.png\n",
      "dm_022_concatenated_raw : saving /home/clement/Bureau/derivatives/dm_022/parc/corr.png\n",
      " OSL osl_logger: handler 'console' level set to 'INFO'\n",
      " logging to file: /home/clement/Bureau/derivatives/logs/osl_batch.log\n",
      " Processed 19/19 files successfully\n",
      " *********************************************************************\n",
      " * REMEMBER TO CHECK REPORT: /home/clement/Bureau/derivatives/report *\n",
      " *********************************************************************\n"
     ]
    }
   ],
   "source": [
    "config = \"\"\"\n",
    "    source_recon:\n",
    "    - forward_model:\n",
    "        model: Single Layer\n",
    "    - beamform_and_parcellate:\n",
    "        freq_range: [1, 45]\n",
    "        chantypes: [mag, grad]\n",
    "        rank: {meg: 60}\n",
    "        parcellation_file: Glasser52_binary_space-MNI152NLin6_res-8x8x8.nii.gz\n",
    "        method: spatial_basis\n",
    "        orthogonalisation: symmetric\n",
    "\"\"\"\n",
    "\n",
    "if __name__ == \"__main__\":\n",
    "    utils.logger.set_up(level=\"INFO\")\n",
    "    source_recon.setup_fsl(FSL_DIR)\n",
    "\n",
    "    # Get input files\n",
    "    subjects = []\n",
    "    preproc_files = []\n",
    "    smri_files = []\n",
    "\n",
    "    for subject in sorted_subject_names:\n",
    "        subjects.append(f\"{subject}\")\n",
    "\n",
    "        smri_file_path = os.path.join(ANAT_DIR, f\"aging_{subject}.nii\")\n",
    "        smri_files.append(smri_file_path)\n",
    "\n",
    "        preproc_file = f\"{subject}_concatenated_raw.fif\"\n",
    "        preproc_file_path = os.path.join(PREPROC_DIR, preproc_file)\n",
    "        preproc_files.append(preproc_file_path)\n",
    "\n",
    "    \n",
    "    # Setup parallel processing\n",
    "    client = Client(n_workers=16, threads_per_worker=1)\n",
    "\n",
    "    # Run beamforming and parcellation\n",
    "    source_recon.run_src_batch(\n",
    "        config,\n",
    "        src_dir=SRC_DIR,\n",
    "        subjects=subjects,\n",
    "        preproc_files=preproc_files,\n",
    "        smri_files=smri_files,\n",
    "        dask_client=False,\n",
    "    )"
   ]
  }
 ],
 "metadata": {
  "kernelspec": {
   "display_name": "osld",
   "language": "python",
   "name": "python3"
  },
  "language_info": {
   "codemirror_mode": {
    "name": "ipython",
    "version": 3
   },
   "file_extension": ".py",
   "mimetype": "text/x-python",
   "name": "python",
   "nbconvert_exporter": "python",
   "pygments_lexer": "ipython3",
   "version": "3.8.16"
  }
 },
 "nbformat": 4,
 "nbformat_minor": 2
}
